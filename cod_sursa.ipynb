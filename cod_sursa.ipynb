{
  "nbformat": 4,
  "nbformat_minor": 0,
  "metadata": {
    "colab": {
      "provenance": []
    },
    "kernelspec": {
      "name": "python3",
      "display_name": "Python 3"
    },
    "language_info": {
      "name": "python"
    }
  },
  "cells": [
    {
      "cell_type": "markdown",
      "source": [
        "LIBRARIES LOADING\n",
        "\n"
      ],
      "metadata": {
        "id": "wH4xp4tN-N5h"
      }
    },
    {
      "cell_type": "code",
      "execution_count": null,
      "metadata": {
        "id": "iYwEdlDkYBXT"
      },
      "outputs": [],
      "source": [
        "!apt-get install openjdk-8-jdk-headless -qq > /dev/null\n",
        "!wget -q https://archive.apache.org/dist/spark/spark-3.4.0/spark-3.4.0-bin-hadoop3.tgz\n",
        "!tar xf spark-3.4.0-bin-hadoop3.tgz\n",
        "!pip install -q findspark\n"
      ]
    },
    {
      "cell_type": "code",
      "source": [
        "import os\n",
        "os.environ[\"JAVA_HOME\"] = \"/usr/lib/jvm/java-8-openjdk-amd64\"\n",
        "os.environ[\"SPARK_HOME\"] = \"/content/spark-3.4.0-bin-hadoop3\""
      ],
      "metadata": {
        "id": "ihcSqlnPZtQg"
      },
      "execution_count": null,
      "outputs": []
    },
    {
      "cell_type": "code",
      "source": [
        "import findspark\n",
        "findspark.init()\n",
        "from pyspark.sql import SparkSession\n",
        "spark = SparkSession.builder.master(\"local[*]\").getOrCreate()"
      ],
      "metadata": {
        "id": "swIxK2PLZyIR"
      },
      "execution_count": null,
      "outputs": []
    },
    {
      "cell_type": "markdown",
      "source": [
        "LOADING THE DATASET"
      ],
      "metadata": {
        "id": "YMgDmbgFmmrD"
      }
    },
    {
      "cell_type": "code",
      "source": [
        "from pyspark.sql import Row\n",
        "!wget https://archive.ics.uci.edu/ml/machine-learning-databases/autos/imports-85.data\n",
        "\n",
        "# definim numele coloanelor\n",
        "columns = [\"symboling\", \"normalized_losses\", \"make\", \"fuel_type\", \"aspiration\", \"num_of_doors\", \"body_style\", \"drive_wheels\", \"engine_location\", \"wheel_base\", \"length\", \"width\", \"height\", \"curb_weight\", \"engine_type\", \"num_of_cylinders\", \"engine_size\", \"fuel_system\", \"bore\", \"stroke\", \"compression_ratio\", \"horsepower\", \"peak_rpm\", \"city_mpg\", \"highway_mpg\", \"price\"]\n",
        "\n",
        "# incarcam setul de date\n",
        "rdd = spark.sparkContext.textFile(\"imports-85.data\")\n",
        "data = rdd.map(lambda line: line.split(\",\")).map(lambda x: Row(x[0], x[1], x[2], x[3], x[4], x[5], x[6], x[7], x[8], x[9], x[10], x[11], x[12], x[13], x[14], x[15], x[16], x[17], x[18], x[19], x[20], x[21], x[22], x[23], x[24], x[25]))\n",
        "\n",
        "#transformam RDD în DataFrame\n",
        "df = spark.createDataFrame(data, columns)\n",
        "\n",
        "\n"
      ],
      "metadata": {
        "colab": {
          "base_uri": "https://localhost:8080/"
        },
        "id": "yGgc5KqNZ0yc",
        "outputId": "ee27a507-ae1d-465b-899a-693b594b5903"
      },
      "execution_count": null,
      "outputs": [
        {
          "output_type": "stream",
          "name": "stdout",
          "text": [
            "--2023-06-20 14:40:57--  https://archive.ics.uci.edu/ml/machine-learning-databases/autos/imports-85.data\n",
            "Resolving archive.ics.uci.edu (archive.ics.uci.edu)... 128.195.10.252\n",
            "Connecting to archive.ics.uci.edu (archive.ics.uci.edu)|128.195.10.252|:443... connected.\n",
            "HTTP request sent, awaiting response... 200 OK\n",
            "Length: unspecified\n",
            "Saving to: ‘imports-85.data’\n",
            "\n",
            "imports-85.data         [ <=>                ]  25.33K  --.-KB/s    in 0.06s   \n",
            "\n",
            "2023-06-20 14:40:57 (403 KB/s) - ‘imports-85.data’ saved [25936]\n",
            "\n"
          ]
        }
      ]
    },
    {
      "cell_type": "markdown",
      "source": [
        "CLEANING THE DATASET"
      ],
      "metadata": {
        "id": "sdLEKmT1mi1y"
      }
    },
    {
      "cell_type": "code",
      "source": [
        "from pyspark.sql.functions import when, col\n",
        "\n",
        "df = df.replace('?', None)\n",
        "\n",
        "# parcurgem setul pentru verificarea de valori nule\n",
        "for col in df.columns:\n",
        "    print(col, \"\\t\", \"with null values: \", df.filter(df[col].isNull()).count())\n",
        "\n",
        "\n",
        "#eliminare randuri cu valori lipsa\n",
        "df = df.dropna(how='any')\n"
      ],
      "metadata": {
        "colab": {
          "base_uri": "https://localhost:8080/"
        },
        "id": "gfP_3Ps5mdiS",
        "outputId": "ee6719d9-7c6b-4c29-c525-a2aab04057e5"
      },
      "execution_count": null,
      "outputs": [
        {
          "output_type": "stream",
          "name": "stdout",
          "text": [
            "symboling \t with null values:  0\n",
            "normalized_losses \t with null values:  41\n",
            "make \t with null values:  0\n",
            "fuel_type \t with null values:  0\n",
            "aspiration \t with null values:  0\n",
            "num_of_doors \t with null values:  2\n",
            "body_style \t with null values:  0\n",
            "drive_wheels \t with null values:  0\n",
            "engine_location \t with null values:  0\n",
            "wheel_base \t with null values:  0\n",
            "length \t with null values:  0\n",
            "width \t with null values:  0\n",
            "height \t with null values:  0\n",
            "curb_weight \t with null values:  0\n",
            "engine_type \t with null values:  0\n",
            "num_of_cylinders \t with null values:  0\n",
            "engine_size \t with null values:  0\n",
            "fuel_system \t with null values:  0\n",
            "bore \t with null values:  4\n",
            "stroke \t with null values:  4\n",
            "compression_ratio \t with null values:  0\n",
            "horsepower \t with null values:  2\n",
            "peak_rpm \t with null values:  2\n",
            "city_mpg \t with null values:  0\n",
            "highway_mpg \t with null values:  0\n",
            "price \t with null values:  4\n"
          ]
        }
      ]
    },
    {
      "cell_type": "markdown",
      "source": [
        "TRANSFORMING THE DATASET\n"
      ],
      "metadata": {
        "id": "aDCky-02m5W2"
      }
    },
    {
      "cell_type": "code",
      "source": [
        "from pyspark.sql.functions import col\n",
        "\n",
        "#adaugam noua coloana la dateset-ul existent\n",
        "df = df.withColumn(\"power_to_weight_ratio\", col(\"horsepower\") / col(\"curb_weight\"))\n",
        "\n",
        "df.select(\"horsepower\", \"curb_weight\", \"power_to_weight_ratio\").show(5)\n",
        "\n"
      ],
      "metadata": {
        "colab": {
          "base_uri": "https://localhost:8080/"
        },
        "id": "WNcbdlIWm7LL",
        "outputId": "c5add497-ed6f-4664-968b-c2bbc060fb4e"
      },
      "execution_count": null,
      "outputs": [
        {
          "output_type": "stream",
          "name": "stdout",
          "text": [
            "+----------+-----------+---------------------+\n",
            "|horsepower|curb_weight|power_to_weight_ratio|\n",
            "+----------+-----------+---------------------+\n",
            "|       102|       2337| 0.043645699614890884|\n",
            "|       115|       2824|  0.04072237960339943|\n",
            "|       110|       2844|  0.03867791842475387|\n",
            "|       140|       3086|  0.04536616979909268|\n",
            "|       101|       2395| 0.042171189979123176|\n",
            "+----------+-----------+---------------------+\n",
            "only showing top 5 rows\n",
            "\n"
          ]
        }
      ]
    },
    {
      "cell_type": "markdown",
      "source": [
        "GROUPING THE DATASET"
      ],
      "metadata": {
        "id": "4e3DuuqnnEM9"
      }
    },
    {
      "cell_type": "code",
      "source": [
        "from pyspark.sql.functions import avg\n",
        "\n",
        "# grupare dupa pretul mediu in functie de marca\n",
        "df.groupBy(\"make\").agg(avg(\"price\").alias(\"avg_price\")).show()\n",
        "\n",
        "# grupare dupa pretul mediu in functie de caroserie\n",
        "df.groupBy(\"body_style\").agg(avg(\"price\").alias(\"avg_price\")).show()\n"
      ],
      "metadata": {
        "colab": {
          "base_uri": "https://localhost:8080/"
        },
        "id": "0Ovzo0amnFk7",
        "outputId": "6f2d2480-db83-49fe-d92d-ab26f414a945"
      },
      "execution_count": null,
      "outputs": [
        {
          "output_type": "stream",
          "name": "stdout",
          "text": [
            "+-------------+------------------+\n",
            "|         make|         avg_price|\n",
            "+-------------+------------------+\n",
            "|       jaguar|           32250.0|\n",
            "|   mitsubishi|            7813.0|\n",
            "|         audi|          18246.25|\n",
            "|          bmw|           18857.5|\n",
            "|        dodge|          7790.125|\n",
            "|        mazda|            9080.0|\n",
            "|mercedes-benz|           29726.4|\n",
            "|    chevrolet|            6007.0|\n",
            "|        honda| 8184.692307692308|\n",
            "|       nissan|10415.666666666666|\n",
            "|       peugot| 15758.57142857143|\n",
            "|       toyota| 9696.645161290322|\n",
            "|         saab|15223.333333333334|\n",
            "|     plymouth| 7163.333333333333|\n",
            "|      porsche|           22018.0|\n",
            "|   volkswagen|          8738.125|\n",
            "|       subaru|           8541.25|\n",
            "|        volvo| 18063.18181818182|\n",
            "+-------------+------------------+\n",
            "\n",
            "+-----------+------------------+\n",
            "| body_style|         avg_price|\n",
            "+-----------+------------------+\n",
            "|      wagon|11351.411764705883|\n",
            "|convertible|           26362.5|\n",
            "|      sedan|12558.620253164558|\n",
            "|  hatchback| 9220.160714285714|\n",
            "|    hardtop|           13142.4|\n",
            "+-----------+------------------+\n",
            "\n"
          ]
        }
      ]
    },
    {
      "cell_type": "markdown",
      "source": [
        "USING SPARKSQL"
      ],
      "metadata": {
        "id": "iYxDWf6RpwVC"
      }
    },
    {
      "cell_type": "code",
      "source": [
        "# punem dataset-ul intr-o vizualizare temporara\n",
        "df.createOrReplaceTempView(\"autos\")\n",
        "\n",
        "# utilizam sparkSQL pentru a avea aceleasi rezultate ca mai sus\n",
        "spark.sql(\"SELECT make, AVG(price) FROM autos GROUP BY make\").show()\n",
        "spark.sql(\"SELECT body_style, AVG(price) FROM autos GROUP BY body_style\").show()\n"
      ],
      "metadata": {
        "colab": {
          "base_uri": "https://localhost:8080/"
        },
        "id": "fFxIvtCkpxLQ",
        "outputId": "78120b9f-8742-45bb-f012-8aab7e348ec2"
      },
      "execution_count": null,
      "outputs": [
        {
          "output_type": "stream",
          "name": "stdout",
          "text": [
            "+-------------+------------------+\n",
            "|         make|        avg(price)|\n",
            "+-------------+------------------+\n",
            "|       jaguar|           32250.0|\n",
            "|   mitsubishi|            7813.0|\n",
            "|         audi|          18246.25|\n",
            "|          bmw|           18857.5|\n",
            "|        dodge|          7790.125|\n",
            "|        mazda|            9080.0|\n",
            "|mercedes-benz|           29726.4|\n",
            "|    chevrolet|            6007.0|\n",
            "|        honda| 8184.692307692308|\n",
            "|       nissan|10415.666666666666|\n",
            "|       peugot| 15758.57142857143|\n",
            "|       toyota| 9696.645161290322|\n",
            "|         saab|15223.333333333334|\n",
            "|     plymouth| 7163.333333333333|\n",
            "|      porsche|           22018.0|\n",
            "|   volkswagen|          8738.125|\n",
            "|       subaru|           8541.25|\n",
            "|        volvo| 18063.18181818182|\n",
            "+-------------+------------------+\n",
            "\n",
            "+-----------+------------------+\n",
            "| body_style|        avg(price)|\n",
            "+-----------+------------------+\n",
            "|      wagon|11351.411764705883|\n",
            "|convertible|           26362.5|\n",
            "|      sedan|12558.620253164558|\n",
            "|  hatchback| 9220.160714285714|\n",
            "|    hardtop|           13142.4|\n",
            "+-----------+------------------+\n",
            "\n"
          ]
        }
      ]
    },
    {
      "cell_type": "markdown",
      "source": [
        "Problema 1: Prezicerea prețului unei mașini\n",
        "\n",
        "1.Enunțul problemei: Dorim să prezicem prețul unei mașini bazându-ne pe caracteristici cum ar fi puterea motorului, dimensiunea motorului, lungimea, lățimea, înălțimea și greutatea. Vrem să găsim o relație între aceste caracteristici și prețul mașinii.\n",
        "\n",
        "2.Justificarea alegerii metodei: Pentru a prezice prețul unei mașini, vom folosi o tehnică numită \"Regresia liniară\". Aceasta presupune că există o legătură liniară între caracteristicile mașinii și prețul său. De exemplu, putem presupune că o mașină cu o putere mai mare a motorului va avea un preț mai mare.\n",
        "\n",
        "3.Explicarea soluției:\n",
        "\n",
        "Pregătirea datelor: Înainte de a putea prezice prețul, trebuie să pregătim datele. Asta înseamnă că trebuie să adunăm toate caracteristicile relevante într-o singură listă. Astfel, vom putea folosi acea listă pentru a antrena modelul nostru de regresie.\n",
        "\n",
        "Împărțirea datelor: Am împărțit setul de date într-un set de antrenament (80% din date) și un set de testare (20% din date). Setul de antrenament este folosit pentru a antrena modelul, iar setul de testare este folosit pentru a evalua performanța modelului.\n",
        "\n",
        "Antrenarea modelului: Am creat o instanță a modelului de Regresie liniară și am antrenat modelul folosind setul de antrenament. Antrenarea modelului implică găsirea celei mai bune linii (sau hiperplan, în cazul mai multor caracteristici) care minimizează suma pătratelor reziduurilor (adică diferența dintre valoarea reală și valoarea prezisă).\n",
        "\n",
        "Evaluarea modelului: După ce modelul a fost antrenat, vom evalua cât de bine funcționează folosind setul de testare. Vom calcula o metrică numită \"eroarea medie pătratică\" (RMSE). Cu cât valoarea RMSE este mai mică, cu atât modelul prezice mai bine prețurile mașinilor."
      ],
      "metadata": {
        "id": "zbHFkzx2tsgF"
      }
    },
    {
      "cell_type": "code",
      "source": [
        "from pyspark.ml.feature import VectorAssembler\n",
        "from pyspark.ml.regression import LinearRegression\n",
        "from pyspark.ml.evaluation import RegressionEvaluator\n",
        "\n",
        "# transformam datele pentru regresie\n",
        "df = df.withColumn(\"horsepower\", col(\"horsepower\").cast(\"float\"))\n",
        "df = df.withColumn(\"engine_size\", col(\"engine_size\").cast(\"float\"))\n",
        "df = df.withColumn(\"wheel_base\", col(\"wheel_base\").cast(\"float\"))\n",
        "df = df.withColumn(\"width\", col(\"width\").cast(\"float\"))\n",
        "df = df.withColumn(\"height\", col(\"height\").cast(\"float\"))\n",
        "df = df.withColumn(\"curb_weight\", col(\"curb_weight\").cast(\"float\"))\n",
        "df = df.withColumn(\"price\", col(\"price\").cast(\"float\"))\n",
        "\n",
        "assembler = VectorAssembler(\n",
        "    inputCols=[\"horsepower\", \"engine_size\", \"wheel_base\", \"width\", \"height\", \"curb_weight\"],\n",
        "    outputCol=\"features\")\n",
        "output = assembler.transform(df)\n",
        "final_data = output.select(\"features\", \"price\")\n",
        "final_data.show()\n",
        "\n",
        "#impartirea datelor in set de antrenament si de testare\n",
        "train_data, test_data = final_data.randomSplit([0.8, 0.2])\n",
        "\n",
        "#antrenarea modelului\n",
        "lr = LinearRegression(labelCol='price')\n",
        "lr_model = lr.fit(train_data)\n",
        "\n",
        "#evaluarea modelului\n",
        "test_results = lr_model.evaluate(test_data)\n",
        "test_results.rootMeanSquaredError\n",
        "\n"
      ],
      "metadata": {
        "colab": {
          "base_uri": "https://localhost:8080/"
        },
        "id": "ZVTOHJc-uBp_",
        "outputId": "f97ff50b-0217-4cb5-acd7-f156c52ea1a6"
      },
      "execution_count": null,
      "outputs": [
        {
          "output_type": "stream",
          "name": "stdout",
          "text": [
            "+--------------------+-------+\n",
            "|            features|  price|\n",
            "+--------------------+-------+\n",
            "|[102.0,109.0,99.8...|13950.0|\n",
            "|[115.0,136.0,99.4...|17450.0|\n",
            "|[110.0,136.0,105....|17710.0|\n",
            "|[140.0,131.0,105....|23875.0|\n",
            "|[101.0,108.0,101....|16430.0|\n",
            "|[101.0,108.0,101....|16925.0|\n",
            "|[121.0,164.0,101....|20970.0|\n",
            "|[121.0,164.0,101....|21105.0|\n",
            "|[48.0,61.0,88.400...| 5151.0|\n",
            "|[70.0,90.0,94.5,6...| 6295.0|\n",
            "|[70.0,90.0,94.5,6...| 6575.0|\n",
            "|[68.0,90.0,93.699...| 5572.0|\n",
            "|[68.0,90.0,93.699...| 6377.0|\n",
            "|[102.0,98.0,93.69...| 7957.0|\n",
            "|[68.0,90.0,93.699...| 6229.0|\n",
            "|[68.0,90.0,93.699...| 6692.0|\n",
            "|[68.0,90.0,93.699...| 7609.0|\n",
            "|[88.0,122.0,103.3...| 8921.0|\n",
            "|[145.0,156.0,95.9...|12964.0|\n",
            "|[58.0,92.0,86.599...| 6479.0|\n",
            "+--------------------+-------+\n",
            "only showing top 20 rows\n",
            "\n"
          ]
        },
        {
          "output_type": "execute_result",
          "data": {
            "text/plain": [
              "2201.1410455009122"
            ]
          },
          "metadata": {},
          "execution_count": 9
        }
      ]
    },
    {
      "cell_type": "markdown",
      "source": [
        "Dacă valoarea RMSE este relativ mică comparativ cu scala prețurilor din setul de date, putem considera că modelul prezice prețurile mașinilor în mod acceptabil. Cu alte cuvinte, prezicerile modelului se apropie în general de prețurile reale ale mașinilor. Atfel comparam RMSE cu preturile masinilor noastre."
      ],
      "metadata": {
        "id": "sFUt-QSgzml5"
      }
    },
    {
      "cell_type": "code",
      "source": [
        "df.select(\"price\").describe().show()\n"
      ],
      "metadata": {
        "colab": {
          "base_uri": "https://localhost:8080/"
        },
        "id": "uVleSEQIz7Uy",
        "outputId": "86f73850-ecf0-4cd0-c705-59317a0cd570"
      },
      "execution_count": null,
      "outputs": [
        {
          "output_type": "stream",
          "name": "stdout",
          "text": [
            "+-------+------------------+\n",
            "|summary|             price|\n",
            "+-------+------------------+\n",
            "|  count|               159|\n",
            "|   mean|11445.729559748428|\n",
            "| stddev| 5877.856195222509|\n",
            "|    min|            5118.0|\n",
            "|    max|           35056.0|\n",
            "+-------+------------------+\n",
            "\n"
          ]
        }
      ]
    },
    {
      "cell_type": "markdown",
      "source": [
        "Problema 2: Clasificarea - Prezicerea stilului de caroserie al unei mașini\n",
        "\n",
        "Enunțul problemei: Vrem să prezicem stilul de caroserie al unei mașini bazat pe caracteristicile acesteia, cum ar fi 'horsepower', 'engine_size', 'wheel_base', 'width', 'height' și 'curb_weight'.\n",
        "\n",
        "Justificarea alegerii metodei: Pentru a aborda această problemă de clasificare, vom utiliza algoritmul de clasificare logistică. Acesta este un algoritm robust și eficient pentru problemele de clasificare. Ne permite să prezicem stilul de caroserie al mașinii pe baza caracteristicilor sale, atribuindu-i o etichetă corespunzătoare.\n",
        "\n",
        "Explicarea soluției:\n",
        "\n",
        "Pregătirea datelor: Înainte de a antrena modelul, vom asigura că datele sunt pregătite într-un format adecvat. Acest lucru poate implica eliminarea sau imputarea valorilor lipsă, codificarea caracteristicilor categorice și scalarea caracteristicilor numerice, dacă este necesar.\n",
        "\n",
        "Antrenarea modelului: Utilizând Spark MLlib, vom crea un obiect de clasificare logistică și vom antrena modelul nostru folosind setul de date pregătit. Vom specifica caracteristicile de intrare și etichetele de clasă și vom ajusta modelul pe datele de antrenament.\n",
        "\n",
        "Evaluarea modelului: După ce modelul a fost antrenat, vom evalua performanța acestuia. Folosind un evaluator de clasificare multiplu ('MulticlassClassificationEvaluator'), vom măsura acuratețea, precizia, recall-ul și alte metrici relevante. Aceste măsurători ne vor ajuta să înțelegem cât de bine se potrivește modelul nostru datelor de testare și cât de bine prezice stilul de caroserie al mașinii."
      ],
      "metadata": {
        "id": "0erCsLnD8HE9"
      }
    },
    {
      "cell_type": "code",
      "source": [
        "from pyspark.ml.feature import StringIndexer\n",
        "from pyspark.ml.classification import LogisticRegression\n",
        "from pyspark.ml.evaluation import MulticlassClassificationEvaluator\n",
        "\n",
        "#codificam eticheta de clasificare\n",
        "indexer = StringIndexer(inputCol=\"body_style\", outputCol=\"body_style_index\")\n",
        "df = indexer.fit(df).transform(df)\n",
        "df.show(7)\n",
        "\n",
        "#transformam datele sa le adaptam pe modelul nostru cu ajutorul unui assembler\n",
        "assembler = VectorAssembler(\n",
        "    inputCols=[\"horsepower\", \"engine_size\", \"wheel_base\", \"width\", \"height\", \"curb_weight\"],\n",
        "    outputCol=\"features\")\n",
        "output = assembler.transform(df)\n",
        "final_data = output.select(\"features\", \"body_style_index\")\n",
        "\n",
        "#impartirea datelor in set de antrenament si de testare\n",
        "train_data, test_data = final_data.randomSplit([0.8, 0.2])\n",
        "\n",
        "#antrenarea modelului\n",
        "lr = LogisticRegression(labelCol='body_style_index')\n",
        "lr_model = lr.fit(train_data)\n",
        "\n",
        "\n",
        "#evaluarea modelului\n",
        "predictions = lr_model.transform(test_data)\n",
        "predictions.show()\n",
        "\n",
        "evaluator = MulticlassClassificationEvaluator(\n",
        "    labelCol=\"body_style_index\", predictionCol=\"prediction\", metricName=\"accuracy\")\n",
        "\n",
        "accuracy = evaluator.evaluate(predictions)\n",
        "accuracy\n"
      ],
      "metadata": {
        "colab": {
          "base_uri": "https://localhost:8080/"
        },
        "id": "hjuNY_Ou816a",
        "outputId": "f26ff735-3c7c-4a77-e526-c52682640a38"
      },
      "execution_count": null,
      "outputs": [
        {
          "output_type": "stream",
          "name": "stdout",
          "text": [
            "+---------+-----------------+----+---------+----------+------------+----------+------------+---------------+----------+------+-----+------+-----------+-----------+----------------+-----------+-----------+----+------+-----------------+----------+--------+--------+-----------+-------+---------------------+----------------+\n",
            "|symboling|normalized_losses|make|fuel_type|aspiration|num_of_doors|body_style|drive_wheels|engine_location|wheel_base|length|width|height|curb_weight|engine_type|num_of_cylinders|engine_size|fuel_system|bore|stroke|compression_ratio|horsepower|peak_rpm|city_mpg|highway_mpg|  price|power_to_weight_ratio|body_style_index|\n",
            "+---------+-----------------+----+---------+----------+------------+----------+------------+---------------+----------+------+-----+------+-----------+-----------+----------------+-----------+-----------+----+------+-----------------+----------+--------+--------+-----------+-------+---------------------+----------------+\n",
            "|        2|              164|audi|      gas|       std|        four|     sedan|         fwd|          front|      99.8|176.60| 66.2|  54.3|     2337.0|        ohc|            four|      109.0|       mpfi|3.19|  3.40|            10.00|     102.0|    5500|      24|         30|13950.0| 0.043645699614890884|             0.0|\n",
            "|        2|              164|audi|      gas|       std|        four|     sedan|         4wd|          front|      99.4|176.60| 66.4|  54.3|     2824.0|        ohc|            five|      136.0|       mpfi|3.19|  3.40|             8.00|     115.0|    5500|      18|         22|17450.0|  0.04072237960339943|             0.0|\n",
            "|        1|              158|audi|      gas|       std|        four|     sedan|         fwd|          front|     105.8|192.70| 71.4|  55.7|     2844.0|        ohc|            five|      136.0|       mpfi|3.19|  3.40|             8.50|     110.0|    5500|      19|         25|17710.0|  0.03867791842475387|             0.0|\n",
            "|        1|              158|audi|      gas|     turbo|        four|     sedan|         fwd|          front|     105.8|192.70| 71.4|  55.9|     3086.0|        ohc|            five|      131.0|       mpfi|3.13|  3.40|             8.30|     140.0|    5500|      17|         20|23875.0|  0.04536616979909268|             0.0|\n",
            "|        2|              192| bmw|      gas|       std|         two|     sedan|         rwd|          front|     101.2|176.80| 64.8|  54.3|     2395.0|        ohc|            four|      108.0|       mpfi|3.50|  2.80|             8.80|     101.0|    5800|      23|         29|16430.0| 0.042171189979123176|             0.0|\n",
            "|        0|              192| bmw|      gas|       std|        four|     sedan|         rwd|          front|     101.2|176.80| 64.8|  54.3|     2395.0|        ohc|            four|      108.0|       mpfi|3.50|  2.80|             8.80|     101.0|    5800|      23|         29|16925.0| 0.042171189979123176|             0.0|\n",
            "|        0|              188| bmw|      gas|       std|         two|     sedan|         rwd|          front|     101.2|176.80| 64.8|  54.3|     2710.0|        ohc|             six|      164.0|       mpfi|3.31|  3.19|             9.00|     121.0|    4250|      21|         28|20970.0| 0.044649446494464944|             0.0|\n",
            "+---------+-----------------+----+---------+----------+------------+----------+------------+---------------+----------+------+-----+------+-----------+-----------+----------------+-----------+-----------+----+------+-----------------+----------+--------+--------+-----------+-------+---------------------+----------------+\n",
            "only showing top 7 rows\n",
            "\n",
            "+--------------------+----------------+--------------------+--------------------+----------+\n",
            "|            features|body_style_index|       rawPrediction|         probability|prediction|\n",
            "+--------------------+----------------+--------------------+--------------------+----------+\n",
            "|[58.0,92.0,86.599...|             1.0|[3.91940088868945...|[0.00287862850547...|       1.0|\n",
            "|[68.0,90.0,93.699...|             1.0|[4.73669781467413...|[0.40227399837446...|       1.0|\n",
            "|[68.0,91.0,93.099...|             0.0|[6.55708245511692...|[0.24292604578325...|       1.0|\n",
            "|[69.0,97.0,94.5,6...|             2.0|[5.83910966467831...|[0.48000720208779...|       0.0|\n",
            "|[69.0,97.0,94.5,6...|             0.0|[8.06760065759407...|[0.39680763287736...|       1.0|\n",
            "|[70.0,90.0,94.5,6...|             1.0|[6.96692536566200...|[0.50104479499312...|       0.0|\n",
            "|[76.0,92.0,96.5,6...|             2.0|[9.49944047067597...|[0.57478510522813...|       0.0|\n",
            "|[84.0,122.0,98.80...|             0.0|[7.08461722613986...|[0.55608648591990...|       0.0|\n",
            "|[97.0,120.0,97.19...|             0.0|[6.85309915738498...|[0.42531810421558...|       1.0|\n",
            "|[101.0,108.0,101....|             0.0|[7.41073127692578...|[0.95828548447423...|       0.0|\n",
            "|[102.0,98.0,93.69...|             1.0|[4.43796712037176...|[0.25371181492004...|       1.0|\n",
            "|[115.0,136.0,99.4...|             0.0|[2.96356195456789...|[0.51588355736123...|       0.0|\n",
            "|[116.0,110.0,96.3...|             0.0|[4.65317310585362...|[0.34206098602815...|       1.0|\n",
            "|[120.0,140.0,104....|             0.0|[8.04344193562505...|[0.97014498090277...|       0.0|\n",
            "|[155.0,234.0,96.5...|             4.0|[-5.5341398661454...|[1.14013501439973...|       3.0|\n",
            "|[176.0,258.0,113....|             0.0|[-0.2694773280688...|[0.00530710101030...|       3.0|\n",
            "|[52.0,97.0,97.300...|             0.0|[5.73598576659694...|[0.65956303357054...|       0.0|\n",
            "|[62.0,92.0,95.699...|             1.0|[6.52460386955232...|[0.74254490403044...|       0.0|\n",
            "|[62.0,92.0,95.699...|             2.0|[-5.7609248852939...|[2.46751495334858...|       4.0|\n",
            "|[68.0,90.0,93.699...|             1.0|[4.73669781467413...|[0.40227399837446...|       1.0|\n",
            "+--------------------+----------------+--------------------+--------------------+----------+\n",
            "only showing top 20 rows\n",
            "\n"
          ]
        },
        {
          "output_type": "execute_result",
          "data": {
            "text/plain": [
              "0.5294117647058824"
            ]
          },
          "metadata": {},
          "execution_count": 11
        }
      ]
    },
    {
      "cell_type": "markdown",
      "source": [
        "\n",
        "\n",
        "4.Utilizarea unui datapipeline"
      ],
      "metadata": {
        "id": "Yfn88NvqdSXP"
      }
    },
    {
      "cell_type": "code",
      "source": [
        "from pyspark.ml import Pipeline\n",
        "from pyspark.ml.feature import StringIndexer, VectorAssembler\n",
        "from pyspark.ml.regression import LinearRegression"
      ],
      "metadata": {
        "id": "DrjUiB3heMMX"
      },
      "execution_count": null,
      "outputs": []
    },
    {
      "cell_type": "code",
      "source": [
        "# transformam coloana body_style in tip numeric\n",
        "indexer = StringIndexer(inputCol=\"body_style\", outputCol=\"body_style_index_pipeline\")\n",
        "\n",
        "#transformam datele sa le adaptam pe modelul nostru cu ajutorul unui assembler\n",
        "assembler = VectorAssembler(\n",
        "    inputCols=[\"horsepower\", \"engine_size\", \"wheel_base\", \"width\", \"height\", \"curb_weight\"],\n",
        "    outputCol=\"features\")\n",
        "\n",
        "#crearea modelului de regresie liniara pentru invatarea automata\n",
        "lr = LinearRegression(labelCol='price')\n",
        "\n",
        "# crearea pipeline-ului\n",
        "pipeline = Pipeline(stages=[indexer, assembler, lr])\n",
        "\n",
        "#impartirea datelor in set de antrenament si de testare\n",
        "train_data, test_data = df.randomSplit([0.8, 0.2])\n",
        "\n",
        "# antrenarea modelului\n",
        "model = pipeline.fit(train_data)\n",
        "\n",
        "# evaluarea modelului cu ajutorul RMSE\n",
        "predictions = model.transform(test_data)\n",
        "evaluator = RegressionEvaluator(\n",
        "    labelCol=\"price\", predictionCol=\"prediction\", metricName=\"rmse\")\n",
        "rmse = evaluator.evaluate(predictions)\n",
        "print(\"RMSE = %g\" % rmse)\n",
        "\n"
      ],
      "metadata": {
        "colab": {
          "base_uri": "https://localhost:8080/"
        },
        "id": "Nn_k0QeCl3EP",
        "outputId": "ad053870-a33e-404a-8035-c575931988b7"
      },
      "execution_count": null,
      "outputs": [
        {
          "output_type": "stream",
          "name": "stdout",
          "text": [
            "RMSE = 2345.94\n"
          ]
        }
      ]
    },
    {
      "cell_type": "markdown",
      "source": [
        "\n",
        "\n",
        "5.Functie UDF"
      ],
      "metadata": {
        "id": "gDh7caAG2240"
      }
    },
    {
      "cell_type": "code",
      "source": [
        "from pyspark.sql.functions import udf\n",
        "from pyspark.sql.types import FloatType\n",
        "\n",
        "#definirea functiei UDF\n",
        "def power_to_engine_size(horsepower, engine_size):\n",
        "        return float(horsepower) / float(engine_size)\n",
        "\n",
        "power_to_engine_size_udf = udf(power_to_engine_size, FloatType())\n",
        "\n",
        "#aplicarea functiei pentru a crea o noua coloana pe setul nostru de date\n",
        "df = df.withColumn(\"power_to_engine_size_ratio\", power_to_engine_size_udf(df['horsepower'], df['engine_size']))\n",
        "\n",
        "df.show()"
      ],
      "metadata": {
        "colab": {
          "base_uri": "https://localhost:8080/"
        },
        "id": "uLtUN7C524ZY",
        "outputId": "c7e8ae82-3442-4e97-de9e-861b89aabd85"
      },
      "execution_count": null,
      "outputs": [
        {
          "output_type": "stream",
          "name": "stdout",
          "text": [
            "+---------+-----------------+---------+---------+----------+------------+----------+------------+---------------+----------+------+-----+------+-----------+-----------+----------------+-----------+-----------+----+------+-----------------+----------+--------+--------+-----------+-------+---------------------+----------------+--------------------------+\n",
            "|symboling|normalized_losses|     make|fuel_type|aspiration|num_of_doors|body_style|drive_wheels|engine_location|wheel_base|length|width|height|curb_weight|engine_type|num_of_cylinders|engine_size|fuel_system|bore|stroke|compression_ratio|horsepower|peak_rpm|city_mpg|highway_mpg|  price|power_to_weight_ratio|body_style_index|power_to_engine_size_ratio|\n",
            "+---------+-----------------+---------+---------+----------+------------+----------+------------+---------------+----------+------+-----+------+-----------+-----------+----------------+-----------+-----------+----+------+-----------------+----------+--------+--------+-----------+-------+---------------------+----------------+--------------------------+\n",
            "|        2|              164|     audi|      gas|       std|        four|     sedan|         fwd|          front|      99.8|176.60| 66.2|  54.3|     2337.0|        ohc|            four|      109.0|       mpfi|3.19|  3.40|            10.00|     102.0|    5500|      24|         30|13950.0| 0.043645699614890884|             0.0|                 0.9357798|\n",
            "|        2|              164|     audi|      gas|       std|        four|     sedan|         4wd|          front|      99.4|176.60| 66.4|  54.3|     2824.0|        ohc|            five|      136.0|       mpfi|3.19|  3.40|             8.00|     115.0|    5500|      18|         22|17450.0|  0.04072237960339943|             0.0|                 0.8455882|\n",
            "|        1|              158|     audi|      gas|       std|        four|     sedan|         fwd|          front|     105.8|192.70| 71.4|  55.7|     2844.0|        ohc|            five|      136.0|       mpfi|3.19|  3.40|             8.50|     110.0|    5500|      19|         25|17710.0|  0.03867791842475387|             0.0|                 0.8088235|\n",
            "|        1|              158|     audi|      gas|     turbo|        four|     sedan|         fwd|          front|     105.8|192.70| 71.4|  55.9|     3086.0|        ohc|            five|      131.0|       mpfi|3.13|  3.40|             8.30|     140.0|    5500|      17|         20|23875.0|  0.04536616979909268|             0.0|                 1.0687023|\n",
            "|        2|              192|      bmw|      gas|       std|         two|     sedan|         rwd|          front|     101.2|176.80| 64.8|  54.3|     2395.0|        ohc|            four|      108.0|       mpfi|3.50|  2.80|             8.80|     101.0|    5800|      23|         29|16430.0| 0.042171189979123176|             0.0|                 0.9351852|\n",
            "|        0|              192|      bmw|      gas|       std|        four|     sedan|         rwd|          front|     101.2|176.80| 64.8|  54.3|     2395.0|        ohc|            four|      108.0|       mpfi|3.50|  2.80|             8.80|     101.0|    5800|      23|         29|16925.0| 0.042171189979123176|             0.0|                 0.9351852|\n",
            "|        0|              188|      bmw|      gas|       std|         two|     sedan|         rwd|          front|     101.2|176.80| 64.8|  54.3|     2710.0|        ohc|             six|      164.0|       mpfi|3.31|  3.19|             9.00|     121.0|    4250|      21|         28|20970.0| 0.044649446494464944|             0.0|                 0.7378049|\n",
            "|        0|              188|      bmw|      gas|       std|        four|     sedan|         rwd|          front|     101.2|176.80| 64.8|  54.3|     2765.0|        ohc|             six|      164.0|       mpfi|3.31|  3.19|             9.00|     121.0|    4250|      21|         28|21105.0|  0.04376130198915009|             0.0|                 0.7378049|\n",
            "|        2|              121|chevrolet|      gas|       std|         two| hatchback|         fwd|          front|      88.4|141.10| 60.3|  53.2|     1488.0|          l|           three|       61.0|       2bbl|2.91|  3.03|             9.50|      48.0|    5100|      47|         53| 5151.0|  0.03225806451612903|             1.0|                0.78688526|\n",
            "|        1|               98|chevrolet|      gas|       std|         two| hatchback|         fwd|          front|      94.5|155.90| 63.6|  52.0|     1874.0|        ohc|            four|       90.0|       2bbl|3.03|  3.11|             9.60|      70.0|    5400|      38|         43| 6295.0|  0.03735325506937033|             1.0|                 0.7777778|\n",
            "|        0|               81|chevrolet|      gas|       std|        four|     sedan|         fwd|          front|      94.5|158.80| 63.6|  52.0|     1909.0|        ohc|            four|       90.0|       2bbl|3.03|  3.11|             9.60|      70.0|    5400|      38|         43| 6575.0|  0.03666841278156103|             0.0|                 0.7777778|\n",
            "|        1|              118|    dodge|      gas|       std|         two| hatchback|         fwd|          front|      93.7|157.30| 63.8|  50.8|     1876.0|        ohc|            four|       90.0|       2bbl|2.97|  3.23|             9.41|      68.0|    5500|      37|         41| 5572.0|  0.03624733475479744|             1.0|                0.75555557|\n",
            "|        1|              118|    dodge|      gas|       std|         two| hatchback|         fwd|          front|      93.7|157.30| 63.8|  50.8|     1876.0|        ohc|            four|       90.0|       2bbl|2.97|  3.23|             9.40|      68.0|    5500|      31|         38| 6377.0|  0.03624733475479744|             1.0|                0.75555557|\n",
            "|        1|              118|    dodge|      gas|     turbo|         two| hatchback|         fwd|          front|      93.7|157.30| 63.8|  50.8|     2128.0|        ohc|            four|       98.0|       mpfi|3.03|  3.39|             7.60|     102.0|    5500|      24|         30| 7957.0| 0.047932330827067667|             1.0|                 1.0408163|\n",
            "|        1|              148|    dodge|      gas|       std|        four| hatchback|         fwd|          front|      93.7|157.30| 63.8|  50.6|     1967.0|        ohc|            four|       90.0|       2bbl|2.97|  3.23|             9.40|      68.0|    5500|      31|         38| 6229.0|  0.03457041179461108|             1.0|                0.75555557|\n",
            "|        1|              148|    dodge|      gas|       std|        four|     sedan|         fwd|          front|      93.7|157.30| 63.8|  50.6|     1989.0|        ohc|            four|       90.0|       2bbl|2.97|  3.23|             9.40|      68.0|    5500|      31|         38| 6692.0|  0.03418803418803419|             0.0|                0.75555557|\n",
            "|        1|              148|    dodge|      gas|       std|        four|     sedan|         fwd|          front|      93.7|157.30| 63.8|  50.6|     1989.0|        ohc|            four|       90.0|       2bbl|2.97|  3.23|             9.40|      68.0|    5500|      31|         38| 7609.0|  0.03418803418803419|             0.0|                0.75555557|\n",
            "|       -1|              110|    dodge|      gas|       std|        four|     wagon|         fwd|          front|     103.3|174.60| 64.6|  59.8|     2535.0|        ohc|            four|      122.0|       2bbl|3.34|  3.46|             8.50|      88.0|    5000|      24|         30| 8921.0|  0.03471400394477318|             2.0|                0.72131145|\n",
            "|        3|              145|    dodge|      gas|     turbo|         two| hatchback|         fwd|          front|      95.9|173.20| 66.3|  50.2|     2811.0|        ohc|            four|      156.0|        mfi|3.60|  3.90|             7.00|     145.0|    5000|      19|         24|12964.0|  0.05158306652436855|             1.0|                0.92948717|\n",
            "|        2|              137|    honda|      gas|       std|         two| hatchback|         fwd|          front|      86.6|144.60| 63.9|  50.8|     1713.0|        ohc|            four|       92.0|       1bbl|2.91|  3.41|             9.60|      58.0|    4800|      49|         54| 6479.0| 0.033858727378867484|             1.0|                 0.6304348|\n",
            "+---------+-----------------+---------+---------+----------+------------+----------+------------+---------------+----------+------+-----+------+-----------+-----------+----------------+-----------+-----------+----+------+-----------------+----------+--------+--------+-----------+-------+---------------------+----------------+--------------------------+\n",
            "only showing top 20 rows\n",
            "\n"
          ]
        }
      ]
    },
    {
      "cell_type": "markdown",
      "source": [
        "Optimizarea hiperparametrilor pe exemplul de la PIPELINE\n",
        "\n",
        "\n",
        "\n"
      ],
      "metadata": {
        "id": "BARAxxmY7uvo"
      }
    },
    {
      "cell_type": "code",
      "source": [
        "from pyspark.ml.tuning import CrossValidator, ParamGridBuilder\n",
        "\n",
        "#model regresie liniara\n",
        "lr = LinearRegression(labelCol='price')\n",
        "\n",
        "# setarea grilei de hiperparametri\n",
        "paramGrid = ParamGridBuilder() \\\n",
        "    .addGrid(lr.elasticNetParam, [0.0, 0.25, 0.5, 0.75, 1.0]) \\\n",
        "    .addGrid(lr.regParam, [0.1, 0.05,0.01]) \\\n",
        "    .build()\n",
        "\n",
        "# setare evaluator\n",
        "evaluator = RegressionEvaluator(labelCol=\"price\", predictionCol=\"prediction\", metricName=\"rmse\")\n",
        "\n",
        "#crossvalidator\n",
        "crossval = CrossValidator(estimator=lr,\n",
        "                          estimatorParamMaps=paramGrid,\n",
        "                          evaluator=evaluator,\n",
        "                          numFolds=3)  # folosim k=3 fold-uri pentru validare\n",
        "\n",
        "#transformam datele sa le adaptam pe modelul nostru cu ajutorul unui assembler\n",
        "assembler = VectorAssembler(\n",
        "    inputCols=[\"horsepower\", \"engine_size\", \"wheel_base\", \"width\", \"height\", \"curb_weight\"],\n",
        "    outputCol=\"features\")\n",
        "\n",
        "output = assembler.transform(df)\n",
        "final_data = output.select(\"features\", \"price\")\n",
        "\n",
        "#impartirea datelor in set de antrenament si de testare\n",
        "train_data, test_data = final_data.randomSplit([0.8, 0.2])\n",
        "\n",
        "first_five = train_data.head(50)\n",
        "\n",
        "first_five_df = spark.createDataFrame(first_five, train_data.schema)\n",
        "\n",
        "#antrenam crossvalidator pentru a alege cea mai buna varianta\n",
        "cvModel = crossval.fit(first_five_df)\n",
        "\n",
        "#aplicam modelul cel mai bun pe datele de testare\n",
        "predictions = cvModel.transform(test_data)\n",
        "\n",
        "# calculam RMSE\n",
        "rmse = evaluator.evaluate(predictions)\n",
        "print(\"RMSE = %g\" % rmse)\n",
        "\n"
      ],
      "metadata": {
        "colab": {
          "base_uri": "https://localhost:8080/"
        },
        "id": "OtA9Y7yDRE0S",
        "outputId": "1398032d-8c35-4cbf-cc04-f248683b316f"
      },
      "execution_count": null,
      "outputs": [
        {
          "output_type": "stream",
          "name": "stdout",
          "text": [
            "RMSE = 2843.97\n"
          ]
        }
      ]
    }
  ]
}